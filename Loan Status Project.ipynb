{
 "cells": [
  {
   "cell_type": "code",
   "execution_count": 2,
   "id": "da870551",
   "metadata": {},
   "outputs": [],
   "source": [
    "import pandas as pd"
   ]
  },
  {
   "cell_type": "code",
   "execution_count": 3,
   "id": "b5217509",
   "metadata": {},
   "outputs": [],
   "source": [
    "import numpy as np"
   ]
  },
  {
   "cell_type": "code",
   "execution_count": 4,
   "id": "c7e8578c",
   "metadata": {},
   "outputs": [],
   "source": [
    "x = pd.read_csv(\"C:\\\\Users\\\\ranah\\\\Desktop\\\\Loan Status Project\\\\financial_loan_dataset.csv\")"
   ]
  },
  {
   "cell_type": "code",
   "execution_count": 5,
   "id": "f0d0eb2a",
   "metadata": {
    "scrolled": true
   },
   "outputs": [
    {
     "data": {
      "text/html": [
       "<div>\n",
       "<style scoped>\n",
       "    .dataframe tbody tr th:only-of-type {\n",
       "        vertical-align: middle;\n",
       "    }\n",
       "\n",
       "    .dataframe tbody tr th {\n",
       "        vertical-align: top;\n",
       "    }\n",
       "\n",
       "    .dataframe thead th {\n",
       "        text-align: right;\n",
       "    }\n",
       "</style>\n",
       "<table border=\"1\" class=\"dataframe\">\n",
       "  <thead>\n",
       "    <tr style=\"text-align: right;\">\n",
       "      <th></th>\n",
       "      <th>id</th>\n",
       "      <th>address_state</th>\n",
       "      <th>application_type</th>\n",
       "      <th>emp_length</th>\n",
       "      <th>emp_title</th>\n",
       "      <th>grade</th>\n",
       "      <th>home_ownership</th>\n",
       "      <th>issue_date</th>\n",
       "      <th>last_credit_pull_date</th>\n",
       "      <th>last_payment_date</th>\n",
       "      <th>...</th>\n",
       "      <th>sub_grade</th>\n",
       "      <th>term</th>\n",
       "      <th>verification_status</th>\n",
       "      <th>annual_income</th>\n",
       "      <th>dti</th>\n",
       "      <th>installment</th>\n",
       "      <th>int_rate</th>\n",
       "      <th>loan_amount</th>\n",
       "      <th>total_acc</th>\n",
       "      <th>total_payment</th>\n",
       "    </tr>\n",
       "  </thead>\n",
       "  <tbody>\n",
       "    <tr>\n",
       "      <th>0</th>\n",
       "      <td>1077430</td>\n",
       "      <td>GA</td>\n",
       "      <td>INDIVIDUAL</td>\n",
       "      <td>&lt; 1 year</td>\n",
       "      <td>Ryder</td>\n",
       "      <td>C</td>\n",
       "      <td>RENT</td>\n",
       "      <td>11-02-2021</td>\n",
       "      <td>13-09-2021</td>\n",
       "      <td>13-04-2021</td>\n",
       "      <td>...</td>\n",
       "      <td>C4</td>\n",
       "      <td>60 months</td>\n",
       "      <td>Source Verified</td>\n",
       "      <td>30000.0</td>\n",
       "      <td>0.0100</td>\n",
       "      <td>59.83</td>\n",
       "      <td>0.1527</td>\n",
       "      <td>2500</td>\n",
       "      <td>4</td>\n",
       "      <td>1009</td>\n",
       "    </tr>\n",
       "    <tr>\n",
       "      <th>1</th>\n",
       "      <td>1072053</td>\n",
       "      <td>CA</td>\n",
       "      <td>INDIVIDUAL</td>\n",
       "      <td>9 years</td>\n",
       "      <td>MKC Accounting</td>\n",
       "      <td>E</td>\n",
       "      <td>RENT</td>\n",
       "      <td>01-01-2021</td>\n",
       "      <td>14-12-2021</td>\n",
       "      <td>15-01-2021</td>\n",
       "      <td>...</td>\n",
       "      <td>E1</td>\n",
       "      <td>36 months</td>\n",
       "      <td>Source Verified</td>\n",
       "      <td>48000.0</td>\n",
       "      <td>0.0535</td>\n",
       "      <td>109.43</td>\n",
       "      <td>0.1864</td>\n",
       "      <td>3000</td>\n",
       "      <td>4</td>\n",
       "      <td>3939</td>\n",
       "    </tr>\n",
       "    <tr>\n",
       "      <th>2</th>\n",
       "      <td>1069243</td>\n",
       "      <td>CA</td>\n",
       "      <td>INDIVIDUAL</td>\n",
       "      <td>4 years</td>\n",
       "      <td>Chemat Technology Inc</td>\n",
       "      <td>C</td>\n",
       "      <td>RENT</td>\n",
       "      <td>05-01-2021</td>\n",
       "      <td>12-12-2021</td>\n",
       "      <td>09-01-2021</td>\n",
       "      <td>...</td>\n",
       "      <td>C5</td>\n",
       "      <td>36 months</td>\n",
       "      <td>Not Verified</td>\n",
       "      <td>50000.0</td>\n",
       "      <td>0.2088</td>\n",
       "      <td>421.65</td>\n",
       "      <td>0.1596</td>\n",
       "      <td>12000</td>\n",
       "      <td>11</td>\n",
       "      <td>3522</td>\n",
       "    </tr>\n",
       "    <tr>\n",
       "      <th>3</th>\n",
       "      <td>1041756</td>\n",
       "      <td>TX</td>\n",
       "      <td>INDIVIDUAL</td>\n",
       "      <td>&lt; 1 year</td>\n",
       "      <td>barnes distribution</td>\n",
       "      <td>B</td>\n",
       "      <td>MORTGAGE</td>\n",
       "      <td>25-02-2021</td>\n",
       "      <td>12-12-2021</td>\n",
       "      <td>12-03-2021</td>\n",
       "      <td>...</td>\n",
       "      <td>B2</td>\n",
       "      <td>60 months</td>\n",
       "      <td>Source Verified</td>\n",
       "      <td>42000.0</td>\n",
       "      <td>0.0540</td>\n",
       "      <td>97.06</td>\n",
       "      <td>0.1065</td>\n",
       "      <td>4500</td>\n",
       "      <td>9</td>\n",
       "      <td>4911</td>\n",
       "    </tr>\n",
       "    <tr>\n",
       "      <th>4</th>\n",
       "      <td>1068350</td>\n",
       "      <td>IL</td>\n",
       "      <td>INDIVIDUAL</td>\n",
       "      <td>10+ years</td>\n",
       "      <td>J&amp;J Steel Inc</td>\n",
       "      <td>A</td>\n",
       "      <td>MORTGAGE</td>\n",
       "      <td>01-01-2021</td>\n",
       "      <td>14-12-2021</td>\n",
       "      <td>15-01-2021</td>\n",
       "      <td>...</td>\n",
       "      <td>A1</td>\n",
       "      <td>36 months</td>\n",
       "      <td>Verified</td>\n",
       "      <td>83000.0</td>\n",
       "      <td>0.0231</td>\n",
       "      <td>106.53</td>\n",
       "      <td>0.0603</td>\n",
       "      <td>3500</td>\n",
       "      <td>28</td>\n",
       "      <td>3835</td>\n",
       "    </tr>\n",
       "    <tr>\n",
       "      <th>...</th>\n",
       "      <td>...</td>\n",
       "      <td>...</td>\n",
       "      <td>...</td>\n",
       "      <td>...</td>\n",
       "      <td>...</td>\n",
       "      <td>...</td>\n",
       "      <td>...</td>\n",
       "      <td>...</td>\n",
       "      <td>...</td>\n",
       "      <td>...</td>\n",
       "      <td>...</td>\n",
       "      <td>...</td>\n",
       "      <td>...</td>\n",
       "      <td>...</td>\n",
       "      <td>...</td>\n",
       "      <td>...</td>\n",
       "      <td>...</td>\n",
       "      <td>...</td>\n",
       "      <td>...</td>\n",
       "      <td>...</td>\n",
       "      <td>...</td>\n",
       "    </tr>\n",
       "    <tr>\n",
       "      <th>38571</th>\n",
       "      <td>803452</td>\n",
       "      <td>NJ</td>\n",
       "      <td>INDIVIDUAL</td>\n",
       "      <td>&lt; 1 year</td>\n",
       "      <td>Joseph M Sanzari Company</td>\n",
       "      <td>C</td>\n",
       "      <td>MORTGAGE</td>\n",
       "      <td>11-07-2021</td>\n",
       "      <td>16-05-2021</td>\n",
       "      <td>16-05-2021</td>\n",
       "      <td>...</td>\n",
       "      <td>C1</td>\n",
       "      <td>60 months</td>\n",
       "      <td>Verified</td>\n",
       "      <td>100000.0</td>\n",
       "      <td>0.1986</td>\n",
       "      <td>551.64</td>\n",
       "      <td>0.1299</td>\n",
       "      <td>24250</td>\n",
       "      <td>33</td>\n",
       "      <td>31946</td>\n",
       "    </tr>\n",
       "    <tr>\n",
       "      <th>38572</th>\n",
       "      <td>970377</td>\n",
       "      <td>NY</td>\n",
       "      <td>INDIVIDUAL</td>\n",
       "      <td>8 years</td>\n",
       "      <td>Swat Fame</td>\n",
       "      <td>C</td>\n",
       "      <td>RENT</td>\n",
       "      <td>11-10-2021</td>\n",
       "      <td>16-04-2021</td>\n",
       "      <td>16-05-2021</td>\n",
       "      <td>...</td>\n",
       "      <td>C1</td>\n",
       "      <td>60 months</td>\n",
       "      <td>Verified</td>\n",
       "      <td>50000.0</td>\n",
       "      <td>0.0458</td>\n",
       "      <td>579.72</td>\n",
       "      <td>0.1349</td>\n",
       "      <td>25200</td>\n",
       "      <td>18</td>\n",
       "      <td>31870</td>\n",
       "    </tr>\n",
       "    <tr>\n",
       "      <th>38573</th>\n",
       "      <td>875376</td>\n",
       "      <td>CA</td>\n",
       "      <td>INDIVIDUAL</td>\n",
       "      <td>5 years</td>\n",
       "      <td>Anaheim Regional Medical Center</td>\n",
       "      <td>D</td>\n",
       "      <td>RENT</td>\n",
       "      <td>11-09-2021</td>\n",
       "      <td>16-05-2021</td>\n",
       "      <td>16-05-2021</td>\n",
       "      <td>...</td>\n",
       "      <td>D5</td>\n",
       "      <td>60 months</td>\n",
       "      <td>Verified</td>\n",
       "      <td>65000.0</td>\n",
       "      <td>0.1734</td>\n",
       "      <td>627.93</td>\n",
       "      <td>0.1749</td>\n",
       "      <td>25000</td>\n",
       "      <td>20</td>\n",
       "      <td>35721</td>\n",
       "    </tr>\n",
       "    <tr>\n",
       "      <th>38574</th>\n",
       "      <td>972997</td>\n",
       "      <td>NY</td>\n",
       "      <td>INDIVIDUAL</td>\n",
       "      <td>5 years</td>\n",
       "      <td>Brooklyn Radiology</td>\n",
       "      <td>D</td>\n",
       "      <td>RENT</td>\n",
       "      <td>11-10-2021</td>\n",
       "      <td>16-05-2021</td>\n",
       "      <td>16-05-2021</td>\n",
       "      <td>...</td>\n",
       "      <td>D5</td>\n",
       "      <td>60 months</td>\n",
       "      <td>Verified</td>\n",
       "      <td>368000.0</td>\n",
       "      <td>0.0009</td>\n",
       "      <td>612.72</td>\n",
       "      <td>0.1825</td>\n",
       "      <td>24000</td>\n",
       "      <td>9</td>\n",
       "      <td>33677</td>\n",
       "    </tr>\n",
       "    <tr>\n",
       "      <th>38575</th>\n",
       "      <td>682952</td>\n",
       "      <td>NY</td>\n",
       "      <td>INDIVIDUAL</td>\n",
       "      <td>4 years</td>\n",
       "      <td>Allen Edmonds</td>\n",
       "      <td>F</td>\n",
       "      <td>RENT</td>\n",
       "      <td>11-07-2021</td>\n",
       "      <td>16-05-2021</td>\n",
       "      <td>16-05-2021</td>\n",
       "      <td>...</td>\n",
       "      <td>F3</td>\n",
       "      <td>60 months</td>\n",
       "      <td>Verified</td>\n",
       "      <td>80000.0</td>\n",
       "      <td>0.0600</td>\n",
       "      <td>486.86</td>\n",
       "      <td>0.2099</td>\n",
       "      <td>18000</td>\n",
       "      <td>7</td>\n",
       "      <td>27679</td>\n",
       "    </tr>\n",
       "  </tbody>\n",
       "</table>\n",
       "<p>38576 rows × 24 columns</p>\n",
       "</div>"
      ],
      "text/plain": [
       "            id address_state application_type emp_length  \\\n",
       "0      1077430            GA       INDIVIDUAL   < 1 year   \n",
       "1      1072053            CA       INDIVIDUAL    9 years   \n",
       "2      1069243            CA       INDIVIDUAL    4 years   \n",
       "3      1041756            TX       INDIVIDUAL   < 1 year   \n",
       "4      1068350            IL       INDIVIDUAL  10+ years   \n",
       "...        ...           ...              ...        ...   \n",
       "38571   803452            NJ       INDIVIDUAL   < 1 year   \n",
       "38572   970377            NY       INDIVIDUAL    8 years   \n",
       "38573   875376            CA       INDIVIDUAL    5 years   \n",
       "38574   972997            NY       INDIVIDUAL    5 years   \n",
       "38575   682952            NY       INDIVIDUAL    4 years   \n",
       "\n",
       "                             emp_title grade home_ownership  issue_date  \\\n",
       "0                                Ryder     C           RENT  11-02-2021   \n",
       "1                       MKC Accounting     E           RENT  01-01-2021   \n",
       "2                Chemat Technology Inc     C           RENT  05-01-2021   \n",
       "3                  barnes distribution     B       MORTGAGE  25-02-2021   \n",
       "4                        J&J Steel Inc     A       MORTGAGE  01-01-2021   \n",
       "...                                ...   ...            ...         ...   \n",
       "38571         Joseph M Sanzari Company     C       MORTGAGE  11-07-2021   \n",
       "38572                        Swat Fame     C           RENT  11-10-2021   \n",
       "38573  Anaheim Regional Medical Center     D           RENT  11-09-2021   \n",
       "38574               Brooklyn Radiology     D           RENT  11-10-2021   \n",
       "38575                    Allen Edmonds     F           RENT  11-07-2021   \n",
       "\n",
       "      last_credit_pull_date last_payment_date  ... sub_grade        term  \\\n",
       "0                13-09-2021        13-04-2021  ...        C4   60 months   \n",
       "1                14-12-2021        15-01-2021  ...        E1   36 months   \n",
       "2                12-12-2021        09-01-2021  ...        C5   36 months   \n",
       "3                12-12-2021        12-03-2021  ...        B2   60 months   \n",
       "4                14-12-2021        15-01-2021  ...        A1   36 months   \n",
       "...                     ...               ...  ...       ...         ...   \n",
       "38571            16-05-2021        16-05-2021  ...        C1   60 months   \n",
       "38572            16-04-2021        16-05-2021  ...        C1   60 months   \n",
       "38573            16-05-2021        16-05-2021  ...        D5   60 months   \n",
       "38574            16-05-2021        16-05-2021  ...        D5   60 months   \n",
       "38575            16-05-2021        16-05-2021  ...        F3   60 months   \n",
       "\n",
       "       verification_status annual_income     dti installment int_rate  \\\n",
       "0          Source Verified       30000.0  0.0100       59.83   0.1527   \n",
       "1          Source Verified       48000.0  0.0535      109.43   0.1864   \n",
       "2             Not Verified       50000.0  0.2088      421.65   0.1596   \n",
       "3          Source Verified       42000.0  0.0540       97.06   0.1065   \n",
       "4                 Verified       83000.0  0.0231      106.53   0.0603   \n",
       "...                    ...           ...     ...         ...      ...   \n",
       "38571             Verified      100000.0  0.1986      551.64   0.1299   \n",
       "38572             Verified       50000.0  0.0458      579.72   0.1349   \n",
       "38573             Verified       65000.0  0.1734      627.93   0.1749   \n",
       "38574             Verified      368000.0  0.0009      612.72   0.1825   \n",
       "38575             Verified       80000.0  0.0600      486.86   0.2099   \n",
       "\n",
       "       loan_amount  total_acc  total_payment  \n",
       "0             2500          4           1009  \n",
       "1             3000          4           3939  \n",
       "2            12000         11           3522  \n",
       "3             4500          9           4911  \n",
       "4             3500         28           3835  \n",
       "...            ...        ...            ...  \n",
       "38571        24250         33          31946  \n",
       "38572        25200         18          31870  \n",
       "38573        25000         20          35721  \n",
       "38574        24000          9          33677  \n",
       "38575        18000          7          27679  \n",
       "\n",
       "[38576 rows x 24 columns]"
      ]
     },
     "execution_count": 5,
     "metadata": {},
     "output_type": "execute_result"
    }
   ],
   "source": [
    "x"
   ]
  },
  {
   "cell_type": "code",
   "execution_count": 10,
   "id": "a022c728",
   "metadata": {},
   "outputs": [
    {
     "name": "stdout",
     "output_type": "stream",
     "text": [
      "<class 'pandas.core.frame.DataFrame'>\n",
      "RangeIndex: 38576 entries, 0 to 38575\n",
      "Data columns (total 24 columns):\n",
      " #   Column                 Non-Null Count  Dtype  \n",
      "---  ------                 --------------  -----  \n",
      " 0   id                     38576 non-null  int64  \n",
      " 1   address_state          38576 non-null  object \n",
      " 2   application_type       38576 non-null  object \n",
      " 3   emp_length             38576 non-null  object \n",
      " 4   emp_title              37138 non-null  object \n",
      " 5   grade                  38576 non-null  object \n",
      " 6   home_ownership         38576 non-null  object \n",
      " 7   issue_date             38576 non-null  object \n",
      " 8   last_credit_pull_date  38576 non-null  object \n",
      " 9   last_payment_date      38576 non-null  object \n",
      " 10  loan_status            38576 non-null  object \n",
      " 11  next_payment_date      38576 non-null  object \n",
      " 12  member_id              38576 non-null  int64  \n",
      " 13  purpose                38576 non-null  object \n",
      " 14  sub_grade              38576 non-null  object \n",
      " 15  term                   38576 non-null  object \n",
      " 16  verification_status    38576 non-null  object \n",
      " 17  annual_income          38576 non-null  float64\n",
      " 18  dti                    38576 non-null  float64\n",
      " 19  installment            38576 non-null  float64\n",
      " 20  int_rate               38576 non-null  float64\n",
      " 21  loan_amount            38576 non-null  int64  \n",
      " 22  total_acc              38576 non-null  int64  \n",
      " 23  total_payment          38576 non-null  int64  \n",
      "dtypes: float64(4), int64(5), object(15)\n",
      "memory usage: 7.1+ MB\n"
     ]
    }
   ],
   "source": [
    "x.info()"
   ]
  },
  {
   "cell_type": "code",
   "execution_count": null,
   "id": "f6a58050",
   "metadata": {},
   "outputs": [],
   "source": []
  },
  {
   "cell_type": "code",
   "execution_count": 15,
   "id": "1479c756",
   "metadata": {},
   "outputs": [
    {
     "data": {
      "text/plain": [
       "38576"
      ]
     },
     "execution_count": 15,
     "metadata": {},
     "output_type": "execute_result"
    }
   ],
   "source": [
    "len(x)                        # Total no of applications"
   ]
  },
  {
   "cell_type": "code",
   "execution_count": 6,
   "id": "b2143770",
   "metadata": {},
   "outputs": [
    {
     "data": {
      "text/plain": [
       "435757075"
      ]
     },
     "execution_count": 6,
     "metadata": {},
     "output_type": "execute_result"
    }
   ],
   "source": [
    "x['loan_amount'].sum()       # Total Ammount Funded"
   ]
  },
  {
   "cell_type": "code",
   "execution_count": 7,
   "id": "38d5bb57",
   "metadata": {},
   "outputs": [
    {
     "data": {
      "text/plain": [
       "473070933"
      ]
     },
     "execution_count": 7,
     "metadata": {},
     "output_type": "execute_result"
    }
   ],
   "source": [
    "x['total_payment'].sum()     # Total Ammount Received"
   ]
  },
  {
   "cell_type": "code",
   "execution_count": 10,
   "id": "311efee3",
   "metadata": {},
   "outputs": [
    {
     "data": {
      "text/plain": [
       "12.048831397760265"
      ]
     },
     "execution_count": 10,
     "metadata": {},
     "output_type": "execute_result"
    }
   ],
   "source": [
    "x['int_rate'].mean()*100     # Average Interest rate"
   ]
  },
  {
   "cell_type": "code",
   "execution_count": 22,
   "id": "f0aad96b",
   "metadata": {},
   "outputs": [
    {
     "data": {
      "text/plain": [
       "13.327433119037742"
      ]
     },
     "execution_count": 22,
     "metadata": {},
     "output_type": "execute_result"
    }
   ],
   "source": [
    "x['dti'].mean()*100          # average DTI rate"
   ]
  },
  {
   "cell_type": "code",
   "execution_count": 23,
   "id": "3d8c3a1d",
   "metadata": {},
   "outputs": [],
   "source": [
    "# Good loan vs bad loan Kpi's"
   ]
  },
  {
   "cell_type": "code",
   "execution_count": 29,
   "id": "d8cfa5f7",
   "metadata": {},
   "outputs": [
    {
     "data": {
      "text/plain": [
       "loan_status\n",
       "Charged Off     65532225\n",
       "Current         18866500\n",
       "Fully Paid     351358350\n",
       "Name: loan_amount, dtype: int64"
      ]
     },
     "execution_count": 29,
     "metadata": {},
     "output_type": "execute_result"
    }
   ],
   "source": []
  },
  {
   "cell_type": "code",
   "execution_count": 30,
   "id": "1bd9c048",
   "metadata": {},
   "outputs": [
    {
     "data": {
      "text/plain": [
       "370224850"
      ]
     },
     "execution_count": 30,
     "metadata": {},
     "output_type": "execute_result"
    }
   ],
   "source": []
  },
  {
   "cell_type": "code",
   "execution_count": 32,
   "id": "506777c8",
   "metadata": {},
   "outputs": [
    {
     "data": {
      "text/plain": [
       "65532225"
      ]
     },
     "execution_count": 32,
     "metadata": {},
     "output_type": "execute_result"
    }
   ],
   "source": []
  },
  {
   "cell_type": "code",
   "execution_count": 34,
   "id": "9d763eec",
   "metadata": {},
   "outputs": [
    {
     "data": {
      "text/plain": [
       "loan_status\n",
       "Charged Off     5333\n",
       "Current         1098\n",
       "Fully Paid     32145\n",
       "Name: id, dtype: int64"
      ]
     },
     "execution_count": 34,
     "metadata": {},
     "output_type": "execute_result"
    }
   ],
   "source": [
    "y = x.groupby('loan_status')['id'].count()\n",
    "y"
   ]
  },
  {
   "cell_type": "code",
   "execution_count": 36,
   "id": "1d166bfc",
   "metadata": {},
   "outputs": [
    {
     "data": {
      "text/plain": [
       "33243"
      ]
     },
     "execution_count": 36,
     "metadata": {},
     "output_type": "execute_result"
    }
   ],
   "source": [
    "gla=y[1]+y[2]\n",
    "gla                    # Good Loan Applications"
   ]
  },
  {
   "cell_type": "code",
   "execution_count": 41,
   "id": "4eab70e0",
   "metadata": {},
   "outputs": [
    {
     "data": {
      "text/plain": [
       "86.17534218166736"
      ]
     },
     "execution_count": 41,
     "metadata": {},
     "output_type": "execute_result"
    }
   ],
   "source": [
    "(gla/len(x))*100      # Good Loan Application %"
   ]
  },
  {
   "cell_type": "code",
   "execution_count": 38,
   "id": "ddddf661",
   "metadata": {},
   "outputs": [
    {
     "data": {
      "text/plain": [
       "5333"
      ]
     },
     "execution_count": 38,
     "metadata": {},
     "output_type": "execute_result"
    }
   ],
   "source": [
    "bla=y[0]\n",
    "bla                   # Bad Loan Applications"
   ]
  },
  {
   "cell_type": "code",
   "execution_count": 42,
   "id": "2fd6baf6",
   "metadata": {},
   "outputs": [
    {
     "data": {
      "text/plain": [
       "13.824657818332643"
      ]
     },
     "execution_count": 42,
     "metadata": {},
     "output_type": "execute_result"
    }
   ],
   "source": [
    "(bla/len(x))*100      # Bal Loan Applicatiin %"
   ]
  },
  {
   "cell_type": "code",
   "execution_count": 43,
   "id": "b437dccb",
   "metadata": {},
   "outputs": [
    {
     "data": {
      "text/plain": [
       "loan_status\n",
       "Charged Off     65532225\n",
       "Current         18866500\n",
       "Fully Paid     351358350\n",
       "Name: loan_amount, dtype: int64"
      ]
     },
     "execution_count": 43,
     "metadata": {},
     "output_type": "execute_result"
    }
   ],
   "source": [
    "z=x.groupby('loan_status')['loan_amount'].sum()\n",
    "z"
   ]
  },
  {
   "cell_type": "code",
   "execution_count": 44,
   "id": "e48a23e1",
   "metadata": {},
   "outputs": [
    {
     "data": {
      "text/plain": [
       "370224850"
      ]
     },
     "execution_count": 44,
     "metadata": {},
     "output_type": "execute_result"
    }
   ],
   "source": [
    "gaf=z[1]+z[2]\n",
    "gaf                     # Good loan ammount funded"
   ]
  },
  {
   "cell_type": "code",
   "execution_count": 45,
   "id": "a7b330b7",
   "metadata": {},
   "outputs": [
    {
     "data": {
      "text/plain": [
       "65532225"
      ]
     },
     "execution_count": 45,
     "metadata": {},
     "output_type": "execute_result"
    }
   ],
   "source": [
    "baf = z[0]\n",
    "baf                    # Bad loan amount funded"
   ]
  },
  {
   "cell_type": "code",
   "execution_count": 47,
   "id": "8e0352a9",
   "metadata": {},
   "outputs": [
    {
     "data": {
      "text/plain": [
       "loan_status\n",
       "Charged Off     37284763\n",
       "Current         24199914\n",
       "Fully Paid     411586256\n",
       "Name: total_payment, dtype: int64"
      ]
     },
     "execution_count": 47,
     "metadata": {},
     "output_type": "execute_result"
    }
   ],
   "source": [
    "p=x.groupby('loan_status')['total_payment'].sum()\n",
    "p"
   ]
  },
  {
   "cell_type": "code",
   "execution_count": 48,
   "id": "8671dce2",
   "metadata": {},
   "outputs": [
    {
     "data": {
      "text/plain": [
       "435786170"
      ]
     },
     "execution_count": 48,
     "metadata": {},
     "output_type": "execute_result"
    }
   ],
   "source": [
    "glp=p[1]+p[2]\n",
    "glp                      # Good Loan Payment"
   ]
  },
  {
   "cell_type": "code",
   "execution_count": 51,
   "id": "66efe271",
   "metadata": {},
   "outputs": [
    {
     "data": {
      "text/plain": [
       "37284763"
      ]
     },
     "execution_count": 51,
     "metadata": {},
     "output_type": "execute_result"
    }
   ],
   "source": [
    "blp=p[0]\n",
    "blp                     # Bad Loan Payment"
   ]
  },
  {
   "cell_type": "code",
   "execution_count": null,
   "id": "f6ee3256",
   "metadata": {},
   "outputs": [],
   "source": []
  }
 ],
 "metadata": {
  "kernelspec": {
   "display_name": "Python 3 (ipykernel)",
   "language": "python",
   "name": "python3"
  },
  "language_info": {
   "codemirror_mode": {
    "name": "ipython",
    "version": 3
   },
   "file_extension": ".py",
   "mimetype": "text/x-python",
   "name": "python",
   "nbconvert_exporter": "python",
   "pygments_lexer": "ipython3",
   "version": "3.10.9"
  }
 },
 "nbformat": 4,
 "nbformat_minor": 5
}
